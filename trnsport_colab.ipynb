{
  "cells": [
    {
      "cell_type": "markdown",
      "metadata": {
        "id": "tvOiufWzx3yC"
      },
      "source": [
        "# Quick Start Guide\n",
        "\n",
        "## Introduction\n",
        "\n",
        "This quick start guide is designed to provide you with a concise overview of GAMSPy and its key features. By the end of this guide, you'll have a solid understanding of how to create basic mathematical models using GAMSPy. For more advanced features, we recommend exploring our comprehensive [Users Guide](https://gamspy.readthedocs.io/en/latest/user/index.html) and the extensive [model library](https://gamspy.readthedocs.io/en/latest/user/model_library.html).\n",
        "\n",
        "While not mandatory, having a basic understanding of Python programming and familiarity with the [Pandas library](https://pandas.pydata.org/). will be helpful in following this tutorial.\n",
        "\n",
        "## A Transportation Problem\n",
        "\n",
        "In this guide, we'll delve into an example of the transportation problem. This classic scenario involves managing supplies from various plants to meet demands at multiple markets for a single commodity. Additionally, we have the unit costs associated with shipping the commodity from plants to markets. The fundamental economic question here is:\n",
        "\n",
        "> How can we optimize the shipment quantities between each plant and market to minimize the total transport cost?\n",
        "\n",
        "The problem's algebraic representation typically takes the following format:\n",
        "\n",
        "Indices:\n",
        "\n",
        "- $i$ = plants\n",
        "- $j$ = markets\n",
        "\n",
        "Given Data:\n",
        "\n",
        "- $a_i$ = supply of commodity of plant $i$ (in cases)\n",
        "- $b_j$ = demand for commodity at market $j$\n",
        "- $c_{ij}$ = cost per unit shipment between plant $i$ and market $j$\n",
        "\n",
        "Decision Variables:\n",
        "\n",
        "- $x_{ij}$ = amount of commodity to ship from plant $i$ to market $j$ where $x_{ij} \\ge 0$ for all $i,j$\n",
        "\n",
        "Constraints:\n",
        "\n",
        "- Observe supply limit at plant $i$: $\\sum_j x_{ij} \\le a_i \\: \\forall i$\n",
        "- Satisfy demand at market $j$: $\\sum_i x_{ij} \\ge b_j \\: \\forall j$\n",
        "- Objective Function: Minimize $\\sum_i \\sum_j c_{ij} \\cdot x_{ij}$\n"
      ]
    },
    {
      "cell_type": "code",
      "execution_count": null,
      "metadata": {
        "id": "VlyJf2AOx3yK"
      },
      "outputs": [],
      "source": [
        "# Install dependencies\n",
        "! pip install -q gamspy"
      ]
    },
    {
      "cell_type": "markdown",
      "metadata": {
        "id": "bGkm2k6dx3yN"
      },
      "source": [
        "## Data\n",
        "\n",
        "Before we dive into the optimization process, let's handle our data using the [Pandas library](https://pandas.pydata.org/). We'll begin by organizing the necessary information, which we will subsequently feed into our optimization model."
      ]
    },
    {
      "cell_type": "code",
      "execution_count": null,
      "metadata": {
        "id": "a-WXvlVQx3yN"
      },
      "outputs": [],
      "source": [
        "import pandas as pd\n",
        "\n",
        "capacities = pd.DataFrame(\n",
        "    [[\"seattle\", 350], [\"san-diego\", 600]], columns=[\"city\", \"capacity\"]\n",
        ").set_index(\"city\")\n",
        "\n",
        "capacities"
      ]
    },
    {
      "cell_type": "code",
      "execution_count": null,
      "metadata": {
        "id": "tZBBLaxKx3yO"
      },
      "outputs": [],
      "source": [
        "demands = pd.DataFrame(\n",
        "    [[\"new-york\", 325], [\"chicago\", 300], [\"topeka\", 275]], columns=[\"city\", \"demand\"]\n",
        ").set_index(\"city\")\n",
        "\n",
        "demands"
      ]
    },
    {
      "cell_type": "code",
      "execution_count": null,
      "metadata": {
        "id": "TKQwXoH8x3yO"
      },
      "outputs": [],
      "source": [
        "distances = pd.DataFrame(\n",
        "    [\n",
        "        [\"seattle\", \"new-york\", 2.5],\n",
        "        [\"seattle\", \"chicago\", 1.7],\n",
        "        [\"seattle\", \"topeka\", 1.8],\n",
        "        [\"san-diego\", \"new-york\", 2.5],\n",
        "        [\"san-diego\", \"chicago\", 1.8],\n",
        "        [\"san-diego\", \"topeka\", 1.4],\n",
        "    ],\n",
        "    columns=[\"from\", \"to\", \"distance\"],\n",
        ").set_index([\"from\", \"to\"])\n",
        "\n",
        "distances"
      ]
    },
    {
      "cell_type": "code",
      "execution_count": null,
      "metadata": {
        "id": "LIXoruSTx3yP"
      },
      "outputs": [],
      "source": [
        "freight_cost = 90"
      ]
    },
    {
      "cell_type": "markdown",
      "metadata": {
        "id": "TzMtEQpGx3yP"
      },
      "source": [
        "## Symbol Declaration\n",
        "\n",
        "In line with our systematic breakdown of the transportation problem into sets, parameters, variables, and constraints, we will adopt a similar approach to define the problem as a GAMSPy `Model`. To do this, it's essential to import the `gamspy` library initially."
      ]
    },
    {
      "cell_type": "code",
      "execution_count": null,
      "metadata": {
        "id": "-xN1W8GUx3yQ"
      },
      "outputs": [],
      "source": [
        "from gamspy import Container, Set, Parameter, Variable, Equation, Model, Sum, Sense"
      ]
    },
    {
      "cell_type": "markdown",
      "metadata": {
        "id": "J773cN9Gx3yR"
      },
      "source": [
        "### Container\n",
        "\n",
        "Before we proceed further, let's create a `Container` to encapsulate all the relevant information for our GAMSPy ``Model``. This ``Container`` acts as a centralized hub, gathering essential data, sets, parameters, variables, and constraints, providing a clear structure for our optimization problem."
      ]
    },
    {
      "cell_type": "code",
      "execution_count": null,
      "metadata": {
        "id": "AfjI1EPex3yS"
      },
      "outputs": [],
      "source": [
        "m = Container()"
      ]
    },
    {
      "cell_type": "markdown",
      "metadata": {
        "id": "0G402-gMx3yS"
      },
      "source": [
        "### Sets\n",
        "\n",
        "Sets serve as the fundamental building blocks of a GAMSPy ``Model``, directly corresponding to the indices in the algebraic representations of models. In our transportation problem context, we have defined the following indices:\n",
        "\n",
        "- $i$ = plants\n",
        "- $j$ = markets\n",
        "\n",
        "Sets are associated with a ``Container``, which is why we utilize `Set`. For detailed guidance on using sets, please refer to the [set section](https://gamspy.readthedocs.io/en/latest/user/basics/basics/set.html) of our user guide.\n",
        "\n",
        "There a two ways to declare sets:\n",
        "\n",
        "1. Separate declaration and data assignment\n",
        "2. Combine declaration and data assignment\n",
        "\n",
        "#### Separate declaration and data assignment\n"
      ]
    },
    {
      "cell_type": "code",
      "execution_count": null,
      "metadata": {
        "id": "BWamU5kcx3yT"
      },
      "outputs": [],
      "source": [
        "i = Set(container=m, name=\"i\", description=\"plants\")\n",
        "i.setRecords(capacities.index)"
      ]
    },
    {
      "cell_type": "markdown",
      "metadata": {
        "id": "5WUPqpqEx3yT"
      },
      "source": [
        "#### Combine declaration and data assignment\n"
      ]
    },
    {
      "cell_type": "code",
      "execution_count": null,
      "metadata": {
        "id": "MKTWhofEx3yU",
        "tags": []
      },
      "outputs": [],
      "source": [
        "j = Set(container=m, name=\"j\", description=\"markets\", records=demands.index)"
      ]
    },
    {
      "cell_type": "markdown",
      "metadata": {
        "id": "wTaTkO2fx3yU"
      },
      "source": [
        "The effect of using the above `Set` statements is that we declared two sets, namely $i$ and $j$. Additionally, we provided descriptions to elaborate on their meaning, enhancing the readability of our ``Model``. Lastly, we assigned members to the sets as follows, establishing a clear connection between the abstract sets and their real-world counterparts.\n",
        "\n",
        "$i$ = {Seattle, San Diego}\n",
        "\n",
        "$j$ = {New York, Chicago, Topeka}\n",
        "\n",
        "To verify, you can use `<set name>.records`."
      ]
    },
    {
      "cell_type": "code",
      "execution_count": null,
      "metadata": {
        "id": "GgIZy9eux3yU"
      },
      "outputs": [],
      "source": [
        "i.records"
      ]
    },
    {
      "cell_type": "code",
      "execution_count": null,
      "metadata": {
        "id": "VgeSwRy3x3yU"
      },
      "outputs": [],
      "source": [
        "j.records"
      ]
    },
    {
      "cell_type": "markdown",
      "metadata": {
        "id": "QiyUYMUux3yV"
      },
      "source": [
        "### Parameters\n",
        "\n",
        "Declaring parameters involves using `Parameter`. Each parameter is assigned a name and a description.  Note that parameter $a_i$ is indexed by $i$. To accommodate these indices, we include the `domain` attribute, pointing to the corresponding set.\n",
        "\n",
        "It's worth mentioning that, similar to sets, you have the flexibility to either combine or separate the declaration and data assignment steps. For convenience, we'll proceed by combining the declaration and data assignment.\n"
      ]
    },
    {
      "cell_type": "code",
      "execution_count": null,
      "metadata": {
        "id": "E8GtrsoQx3yV"
      },
      "outputs": [],
      "source": [
        "a = Parameter(\n",
        "    container=m,\n",
        "    name=\"a\",\n",
        "    domain=i,\n",
        "    description=\"supply of commodity of plant i (in cases)\",\n",
        "    records=capacities.reset_index(),\n",
        ")\n",
        "a.records"
      ]
    },
    {
      "cell_type": "code",
      "execution_count": null,
      "metadata": {
        "id": "VEaKtR_Lx3yV"
      },
      "outputs": [],
      "source": [
        "b = Parameter(\n",
        "    container=m,\n",
        "    name=\"b\",\n",
        "    domain=j,\n",
        "    description=\"demand for commodity at market j\",\n",
        "    records=demands.reset_index(),\n",
        ")\n",
        "b.records"
      ]
    },
    {
      "cell_type": "code",
      "execution_count": null,
      "metadata": {
        "id": "0tRP5BV_x3yV"
      },
      "outputs": [],
      "source": [
        "c = Parameter(\n",
        "    container=m,\n",
        "    name=\"c\",\n",
        "    domain=[i, j],\n",
        "    description=\"cost per unit shipment between plant i and market j\",\n",
        ")"
      ]
    },
    {
      "cell_type": "markdown",
      "metadata": {
        "id": "WaEElFl_x3yV"
      },
      "source": [
        "The cost per unit shipment between plant $i$ and market $j$ is derived from the distance between $i$ and $j$ and can be calculated as follows:\n",
        "\n",
        "$c_{ij} = \\frac{90 \\cdot d_{ij}}{1000}$,\n",
        "\n",
        "where $d_{ij}$ denotes the distance between $i$ and $j$.\n",
        "\n",
        "We have two options to calculate $c_{ij}$ and assign the data to the GAMSPy parameter:\n",
        "\n",
        "1. Python assignment - calculation in Python, e.g., using Pandas and `<parameter name>.setRecords()`\n",
        "2. GAMSPy assignment - calculation in GAMSPy\n",
        "\n",
        "#### Python Assignment"
      ]
    },
    {
      "cell_type": "code",
      "execution_count": null,
      "metadata": {
        "id": "aS1mZa0ix3yW"
      },
      "outputs": [],
      "source": [
        "cost = freight_cost * distances / 1000\n",
        "cost"
      ]
    },
    {
      "cell_type": "code",
      "execution_count": null,
      "metadata": {
        "id": "Fc-Qrq9Tx3yW"
      },
      "outputs": [],
      "source": [
        "c.setRecords(cost.reset_index())\n",
        "c.records"
      ]
    },
    {
      "cell_type": "markdown",
      "metadata": {
        "id": "bv0rl4kCx3yW"
      },
      "source": [
        "#### GAMSPy Assignment\n",
        "\n",
        "For the direct assignment we need to declare a new ``Parameter`` denoting the distances between $i$ and $j$.\n"
      ]
    },
    {
      "cell_type": "code",
      "execution_count": null,
      "metadata": {
        "id": "t_dJHW_Tx3yX"
      },
      "outputs": [],
      "source": [
        "d = Parameter(\n",
        "    container=m,\n",
        "    name=\"d\",\n",
        "    domain=[i, j],\n",
        "    description=\"distance between plant i and market j\",\n",
        "    records=distances.reset_index(),\n",
        ")\n",
        "d.records"
      ]
    },
    {
      "cell_type": "code",
      "execution_count": null,
      "metadata": {
        "id": "Qi_z7lZ1x3yX"
      },
      "outputs": [],
      "source": [
        "c[i, j] = freight_cost * d[i, j] / 1000\n",
        "c.records"
      ]
    },
    {
      "cell_type": "markdown",
      "metadata": {
        "id": "8DiMXRjTx3yX"
      },
      "source": [
        "Further information on the usage of parameters can be found in our [parameter section](https://gamspy.readthedocs.io/en/latest/user/basics/parameter.html) of the user guide."
      ]
    },
    {
      "cell_type": "markdown",
      "metadata": {
        "id": "X8R4cLMVx3yX"
      },
      "source": [
        "### Variables\n",
        "\n",
        "GAMSPy variables are declared using `Variable`. Each ``Variable`` is assigned a name, a domain if necessary, a type, and, optionally, a description."
      ]
    },
    {
      "cell_type": "code",
      "execution_count": null,
      "metadata": {
        "id": "jrsZI2vAx3yX"
      },
      "outputs": [],
      "source": [
        "x = Variable(\n",
        "    container=m,\n",
        "    name=\"x\",\n",
        "    domain=[i, j],\n",
        "    type=\"Positive\",\n",
        "    description=\"amount of commodity to ship from plant i to market j\",\n",
        ")"
      ]
    },
    {
      "cell_type": "markdown",
      "metadata": {
        "id": "fi7kHHTjx3yX"
      },
      "source": [
        "This statement results in the declaration of a shipment variable for each (i,j) pair.\n",
        "\n",
        "More information on variables can be found in the [variable section](https://gamspy.readthedocs.io/en/latest/user/basics/variable.html) of our user guide."
      ]
    },
    {
      "cell_type": "markdown",
      "metadata": {
        "id": "jbqqDpYvx3yY"
      },
      "source": [
        "## Equations\n",
        "A GAMSPy ``Equation`` must be declared and defined in two separate statements. The format of the declaration is the same as for other GAMSPy symbols. First comes the keyword, `Equation` in this case, followed by the name, domain and text. The transportation problem has two constraints:\n",
        "\n",
        "Supply: observe supply limit at plant $i$: $\\sum_j x_{ij} \\le a_i \\: \\forall i$\n",
        "\n",
        "Demand: satisfy demand at market $j$: $\\sum_i x_{ij} \\ge b_j \\: \\forall j$"
      ]
    },
    {
      "cell_type": "code",
      "execution_count": null,
      "metadata": {
        "id": "qjzYq0MZx3yY"
      },
      "outputs": [],
      "source": [
        "supply = Equation(\n",
        "    container=m, name=\"supply\", domain=i, description=\"observe supply limit at plant i\"\n",
        ")\n",
        "demand = Equation(\n",
        "    container=m, name=\"demand\", domain=j, description=\"satisfy demand at market j\"\n",
        ")"
      ]
    },
    {
      "cell_type": "markdown",
      "metadata": {
        "id": "HOCfKW3Kx3yY"
      },
      "source": [
        "The components of an ``Equation`` definition are:\n",
        "1. The Python variable of the ``Equation`` being defined\n",
        "2. The domain (optional)\n",
        "3. Domain restriction condition (optional)\n",
        "4. A `=` sign\n",
        "5. Left hand side expression\n",
        "6. Relational operator (`==`, `<=`, `>=`)\n",
        "7. The right hand side expression.\n",
        "\n",
        "The ``Equation`` definition for the supply constraint of the transportation problem is implemented as follows:"
      ]
    },
    {
      "cell_type": "code",
      "execution_count": null,
      "metadata": {
        "id": "5WhlZzBkx3yY"
      },
      "outputs": [],
      "source": [
        "supply[i] = Sum(j, x[i, j]) <= a[i]"
      ]
    },
    {
      "cell_type": "markdown",
      "metadata": {
        "id": "_IcKYNZNx3yZ"
      },
      "source": [
        "Using the same logic as above, we can define the demand equation as follows:"
      ]
    },
    {
      "cell_type": "code",
      "execution_count": null,
      "metadata": {
        "id": "6RgMuuWXx3yZ"
      },
      "outputs": [],
      "source": [
        "demand[j] = Sum(i, x[i, j]) >= b[j]"
      ]
    },
    {
      "cell_type": "markdown",
      "metadata": {
        "id": "tKK9ySG9x3yZ"
      },
      "source": [
        "More information on equations is given in the [equation section](https://gamspy.readthedocs.io/en/latest/user/basics/equation.html) of our user guide."
      ]
    },
    {
      "cell_type": "markdown",
      "metadata": {
        "id": "AYhgxuZ2x3ye"
      },
      "source": [
        "## Objective\n",
        "The objective function of a GAMSPy ``Model`` does not require a separate ``Equation`` declaration. You can assign the objective expression to a Python variable or use it directly in the ``Model()`` statement of the [next section](#model).\n"
      ]
    },
    {
      "cell_type": "code",
      "execution_count": null,
      "metadata": {
        "id": "9qcopDnDx3yf"
      },
      "outputs": [],
      "source": [
        "obj = Sum((i, j), c[i, j] * x[i, j])"
      ]
    },
    {
      "cell_type": "markdown",
      "metadata": {
        "id": "6lpZi0WXx3yf"
      },
      "source": [
        "## Model\n",
        "\n",
        "A GAMSPy `Model()` consolidates constraints, an objective function, a sense (minimize, maximize, and feasibility), and a problem type. It also possesses a name and is associated with a ``Container``.\n",
        "\n",
        "To define our transportation problem as a GAMSPy ``Model``, we assign it to a Python variable, link it to our ``Container`` (populated with symbols and data), name it \"transport\", set the problem type as linear (LP), specify minimization (``Sense.MIN``), and point to the objective expression.\n",
        "\n",
        "GAMSPy allows to alternatives to assign equations to a `Model`:\n",
        "1. Using a list of equations,\n",
        "2. Retrieving _all_ equations by calling `m.getEquations()`.\n",
        "\n",
        "### Using a List of Equations\n",
        "Using a list of equations is especially useful if you want to define multiple GAMSPy ``Model``s with a subset of all equations in your ``Container``. For the transportation problem this can be done as follows:"
      ]
    },
    {
      "cell_type": "code",
      "execution_count": null,
      "metadata": {
        "id": "OMX_V7Chx3yf"
      },
      "outputs": [],
      "source": [
        "transport = Model(\n",
        "    m,\n",
        "    name=\"transport\",\n",
        "    equations=[supply, demand],\n",
        "    problem=\"LP\",\n",
        "    sense=Sense.MIN,\n",
        "    objective=obj,\n",
        ")"
      ]
    },
    {
      "cell_type": "markdown",
      "metadata": {
        "id": "ufIGDDE9x3yf"
      },
      "source": [
        "### Retrieving all Equations\n",
        "Using `m.getEquations()` is especially convenient if you want to include all equations of your ``Container`` to be associated with your model. For the transportation problem this can be done as follows:"
      ]
    },
    {
      "cell_type": "code",
      "execution_count": null,
      "metadata": {
        "id": "C_4cwooRx3yf"
      },
      "outputs": [],
      "source": [
        "transport_2 = Model(\n",
        "    m,\n",
        "    name=\"transport2\",\n",
        "    equations=m.getEquations(),\n",
        "    problem=\"LP\",\n",
        "    sense=Sense.MIN,\n",
        "    objective=obj,\n",
        ")"
      ]
    },
    {
      "cell_type": "markdown",
      "metadata": {
        "id": "HQrUksibx3yg"
      },
      "source": [
        "More information on the usage of a GAMSPy `Model` can be found in the [model section](https://gamspy.readthedocs.io/en/latest/user/basics/model.html) of our user guide."
      ]
    },
    {
      "cell_type": "markdown",
      "metadata": {
        "id": "ywGOFW5Yx3yg"
      },
      "source": [
        "## Solve\n",
        "\n",
        "Upon defining the GAMSPy ``Model``, it's ready for solving. The ``solve()`` statement triggers the generation of the specific model instance, creates suitable data structures for the solver, and invokes the solver. To view solver output in the console, the ``sys`` library can be used, passing the ``output=sys.stdout`` attribute to ``transport.solve()``."
      ]
    },
    {
      "cell_type": "code",
      "execution_count": null,
      "metadata": {
        "id": "CY9DsNSfx3yg"
      },
      "outputs": [],
      "source": [
        "import sys\n",
        "\n",
        "transport.solve(output=sys.stdout)"
      ]
    },
    {
      "cell_type": "markdown",
      "metadata": {
        "id": "6NE6HGTOx3yg"
      },
      "source": [
        "## Retrieving Results\n",
        "### Variable Values\n",
        "Optimal shipment quantities $x_{ij}$ can be retrieved using ``<variable name>.records``. This provides optimal values (level), marginal values, lower and upper bounds, and the variable scale."
      ]
    },
    {
      "cell_type": "code",
      "execution_count": null,
      "metadata": {
        "id": "zZRquvSVx3yg"
      },
      "outputs": [],
      "source": [
        "x.records.set_index([\"i\", \"j\"])"
      ]
    },
    {
      "cell_type": "markdown",
      "metadata": {
        "id": "s7d4gULPx3yh"
      },
      "source": [
        "### Objective Value\n",
        "The optimal objective function value can be accessed by `<model name>.objective_value`."
      ]
    },
    {
      "cell_type": "code",
      "execution_count": null,
      "metadata": {
        "id": "Bfr9usGcx3yh"
      },
      "outputs": [],
      "source": [
        "transport.objective_value"
      ]
    }
  ],
  "metadata": {
    "colab": {
      "provenance": []
    },
    "kernelspec": {
      "display_name": "Python 3 (ipykernel)",
      "language": "python",
      "name": "python3"
    },
    "language_info": {
      "codemirror_mode": {
        "name": "ipython",
        "version": 3
      },
      "file_extension": ".py",
      "mimetype": "text/x-python",
      "name": "python",
      "nbconvert_exporter": "python",
      "pygments_lexer": "ipython3",
      "version": "3.11.3"
    }
  },
  "nbformat": 4,
  "nbformat_minor": 0
}
